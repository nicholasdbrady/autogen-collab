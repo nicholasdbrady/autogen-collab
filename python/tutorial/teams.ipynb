{
 "cells": [
  {
   "cell_type": "markdown",
   "metadata": {},
   "source": [
    "## Teams"
   ]
  },
  {
   "cell_type": "code",
   "execution_count": 4,
   "metadata": {},
   "outputs": [
    {
     "name": "stdout",
     "output_type": "stream",
     "text": [
      "---------- user ----------\n",
      "Write a short poem about the fall season.\n",
      "---------- primary ----------\n",
      "Golden leaves in breezy flight,  \n",
      "Whisper secrets to the night.  \n",
      "Crisp air fills the quiet morn,  \n",
      "While harvest fields stand shorn.  \n",
      "\n",
      "Pumpkins glow with candle light,  \n",
      "Cooler days and longer night.  \n",
      "Sweaters wrapped and cocoa's steam,  \n",
      "Autumn's warmth a gentle dream.  \n",
      "\n",
      "Whistling winds and skies of grey,  \n",
      "Paint a scene where children play.  \n",
      "Nature dons its lively hue,  \n",
      "A fleeting dance of red and blue.  \n",
      "\n",
      "So savor now this fleeting grace,  \n",
      "As autumn's breath we gently chase.  \n",
      "In every leaf and every breeze,  \n",
      "The magic of fall remains with ease.  \n",
      "---------- critic ----------\n",
      "Your poem beautifully captures the essence of the fall season with its vivid imagery and rhythmic flow. Here are a few suggestions to make it even stronger:\n",
      "\n",
      "1. **Third Stanza**: The line \"Paint a scene where children play\" seems a bit generic. You might consider adding more specific imagery that conjures up the sights or sounds commonly associated with fall activities, like jumping in leaf piles or hayrides.\n",
      "\n",
      "2. **Color Imagery**: You've introduced \"red and blue\" in the stanza about autumn's lively hue. While red is a quintessential autumn color, blue is typically not associated with fall. You could consider replacing \"blue\" with \"gold\" or \"crimson\" to maintain the autumnal theme.\n",
      "\n",
      "3. **Consistency**: Ensure the rhythm and syllable count remain consistent across the lines for a smoother read. This may involve adjusting a few words to maintain a steady meter.\n",
      "\n",
      "With these adjustments, your poem will even more effectively convey the beauty and atmosphere of the fall season. Keep up the great work!\n",
      "---------- primary ----------\n",
      "Thank you for the feedback! Here’s a revised version of the poem incorporating your suggestions:\n",
      "\n",
      "Golden leaves in breezy flight,  \n",
      "Whisper secrets to the night.  \n",
      "Crisp air fills the quiet morn,  \n",
      "While harvest fields stand shorn.  \n",
      "\n",
      "Pumpkins glow with candle light,  \n",
      "Cooler days and longer night.  \n",
      "Sweaters wrapped and cocoa's steam,  \n",
      "Autumn's warmth a gentle dream.  \n",
      "\n",
      "Whistling winds through playful leaves,  \n",
      "Where children jump in colorful sheaves.  \n",
      "Nature dons a vivid hue,  \n",
      "A fleeting dance of red and gold, too.  \n",
      "\n",
      "So savor now this fleeting grace,  \n",
      "As autumn's breath we gently chase.  \n",
      "In every leaf and every breeze,  \n",
      "The magic of fall remains with ease.  \n",
      "\n",
      "I hope this captures the spirit of the season even better!\n",
      "---------- critic ----------\n",
      "Your revised poem does a wonderful job of incorporating the feedback. The imagery in the third stanza now effectively captures the playful essence of fall activities with \"children jump in colorful sheaves.\" The adjustment of colors to \"red and gold\" maintains the consistent autumnal theme. Your attention to maintaining rhythm and flow enhances the reading experience, making the poem more immersive. Overall, your poem beautifully encapsulates the warmth and beauty of the fall season. Well done!\n",
      "\n",
      "APPROVE\n"
     ]
    },
    {
     "data": {
      "text/plain": [
       "TaskResult(messages=[TextMessage(source='user', models_usage=None, content='Write a short poem about the fall season.', type='TextMessage'), TextMessage(source='primary', models_usage=RequestUsage(prompt_tokens=28, completion_tokens=137), content=\"Golden leaves in breezy flight,  \\nWhisper secrets to the night.  \\nCrisp air fills the quiet morn,  \\nWhile harvest fields stand shorn.  \\n\\nPumpkins glow with candle light,  \\nCooler days and longer night.  \\nSweaters wrapped and cocoa's steam,  \\nAutumn's warmth a gentle dream.  \\n\\nWhistling winds and skies of grey,  \\nPaint a scene where children play.  \\nNature dons its lively hue,  \\nA fleeting dance of red and blue.  \\n\\nSo savor now this fleeting grace,  \\nAs autumn's breath we gently chase.  \\nIn every leaf and every breeze,  \\nThe magic of fall remains with ease.  \", type='TextMessage'), TextMessage(source='critic', models_usage=RequestUsage(prompt_tokens=182, completion_tokens=208), content='Your poem beautifully captures the essence of the fall season with its vivid imagery and rhythmic flow. Here are a few suggestions to make it even stronger:\\n\\n1. **Third Stanza**: The line \"Paint a scene where children play\" seems a bit generic. You might consider adding more specific imagery that conjures up the sights or sounds commonly associated with fall activities, like jumping in leaf piles or hayrides.\\n\\n2. **Color Imagery**: You\\'ve introduced \"red and blue\" in the stanza about autumn\\'s lively hue. While red is a quintessential autumn color, blue is typically not associated with fall. You could consider replacing \"blue\" with \"gold\" or \"crimson\" to maintain the autumnal theme.\\n\\n3. **Consistency**: Ensure the rhythm and syllable count remain consistent across the lines for a smoother read. This may involve adjusting a few words to maintain a steady meter.\\n\\nWith these adjustments, your poem will even more effectively convey the beauty and atmosphere of the fall season. Keep up the great work!', type='TextMessage'), TextMessage(source='primary', models_usage=RequestUsage(prompt_tokens=383, completion_tokens=169), content=\"Thank you for the feedback! Here’s a revised version of the poem incorporating your suggestions:\\n\\nGolden leaves in breezy flight,  \\nWhisper secrets to the night.  \\nCrisp air fills the quiet morn,  \\nWhile harvest fields stand shorn.  \\n\\nPumpkins glow with candle light,  \\nCooler days and longer night.  \\nSweaters wrapped and cocoa's steam,  \\nAutumn's warmth a gentle dream.  \\n\\nWhistling winds through playful leaves,  \\nWhere children jump in colorful sheaves.  \\nNature dons a vivid hue,  \\nA fleeting dance of red and gold, too.  \\n\\nSo savor now this fleeting grace,  \\nAs autumn's breath we gently chase.  \\nIn every leaf and every breeze,  \\nThe magic of fall remains with ease.  \\n\\nI hope this captures the spirit of the season even better!\", type='TextMessage'), TextMessage(source='critic', models_usage=RequestUsage(prompt_tokens=569, completion_tokens=94), content='Your revised poem does a wonderful job of incorporating the feedback. The imagery in the third stanza now effectively captures the playful essence of fall activities with \"children jump in colorful sheaves.\" The adjustment of colors to \"red and gold\" maintains the consistent autumnal theme. Your attention to maintaining rhythm and flow enhances the reading experience, making the poem more immersive. Overall, your poem beautifully encapsulates the warmth and beauty of the fall season. Well done!\\n\\nAPPROVE', type='TextMessage')], stop_reason=\"Text 'APPROVE' mentioned\")"
      ]
     },
     "execution_count": 4,
     "metadata": {},
     "output_type": "execute_result"
    }
   ],
   "source": [
    "import asyncio\n",
    "import os\n",
    "\n",
    "from autogen_agentchat.agents import AssistantAgent\n",
    "from autogen_agentchat.base import TaskResult\n",
    "from autogen_agentchat.conditions import ExternalTermination, TextMentionTermination\n",
    "from autogen_agentchat.teams import RoundRobinGroupChat\n",
    "from autogen_agentchat.ui import Console\n",
    "from autogen_core import CancellationToken\n",
    "from autogen_ext.models.openai import OpenAIChatCompletionClient\n",
    "\n",
    "# Create an OpenAI model client.\n",
    "model_client = OpenAIChatCompletionClient(\n",
    "    model=\"gpt-4o-2024-08-06\",\n",
    "    api_key=os.environ.get(\"OPENAI_API_KEY\"),\n",
    ")\n",
    "\n",
    "# Create the primary agent.\n",
    "primary_agent = AssistantAgent(\n",
    "    \"primary\",\n",
    "    model_client=model_client,\n",
    "    system_message=\"You are a helpful AI assistant.\",\n",
    ")\n",
    "\n",
    "# Create the critic agent.\n",
    "critic_agent = AssistantAgent(\n",
    "    \"critic\",\n",
    "    model_client=model_client,\n",
    "    system_message=\"Provide constructive feedback. Respond with 'APPROVE' to when your feedbacks are addressed.\",\n",
    ")\n",
    "\n",
    "# Define a termination condition that stops the task if the critic approves.\n",
    "text_termination = TextMentionTermination(\"APPROVE\")\n",
    "\n",
    "# Create a team with the primary and critic agents.\n",
    "team = RoundRobinGroupChat([primary_agent, critic_agent], termination_condition=text_termination)\n",
    "\n",
    "# Use `asyncio.run(...)` when running in a script.\n",
    "result = await team.run(task=\"Write a short poem about the fall season.\")\n",
    "\n",
    "# When running inside a script, use a async main function and call it from `asyncio.run(...)`.\n",
    "await team.reset()  # Reset the team for a new task.\n",
    "await Console(team.run_stream(task=\"Write a short poem about the fall season.\"))  # Stream the messages to the console."
   ]
  }
 ],
 "metadata": {
  "kernelspec": {
   "display_name": ".venv",
   "language": "python",
   "name": "python3"
  },
  "language_info": {
   "codemirror_mode": {
    "name": "ipython",
    "version": 3
   },
   "file_extension": ".py",
   "mimetype": "text/x-python",
   "name": "python",
   "nbconvert_exporter": "python",
   "pygments_lexer": "ipython3",
   "version": "3.11.9"
  }
 },
 "nbformat": 4,
 "nbformat_minor": 2
}
